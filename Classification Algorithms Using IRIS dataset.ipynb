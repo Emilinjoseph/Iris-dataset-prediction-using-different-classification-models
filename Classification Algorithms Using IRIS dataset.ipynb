{
 "cells": [
  {
   "cell_type": "markdown",
   "id": "8f927948",
   "metadata": {},
   "source": [
    "Problem Description\n",
    "Use sklearn.datasets iris flower dataset to train your model using logistic regression. You need\n",
    "to figure out the accuracy of your model and use that to predict different samples in your test\n",
    "dataset. In iris dataset there are 150 samples containing following features,\n",
    "1. Sepal Length\n",
    "2. Sepal Width\n",
    "3. Petal length\n",
    "4. Petal width\n",
    "Using above 4 features you will classify a flower in one of the three categories,\n",
    "1. Setosa\n",
    "2. Versicolour\n",
    "3. Virginica\n"
   ]
  },
  {
   "cell_type": "code",
   "execution_count": 93,
   "id": "4970b2d4",
   "metadata": {},
   "outputs": [],
   "source": [
    "import matplotlib.pyplot as plt\n",
    "import numpy as np\n",
    "import pandas as pd\n",
    "import seaborn as sns\n",
    "\n",
    "from sklearn.linear_model import LogisticRegression\n",
    "from sklearn.model_selection import train_test_split\n",
    "from sklearn.metrics import confusion_matrix,accuracy_score,confusion_matrix,f1_score,classification_report,silhouette_score\n",
    "from sklearn.datasets import load_iris\n",
    "from sklearn.model_selection import GridSearchCV\n",
    "from sklearn.decomposition import PCA\n",
    "from sklearn.manifold import TSNE"
   ]
  },
  {
   "cell_type": "code",
   "execution_count": 94,
   "id": "c4e2c451",
   "metadata": {},
   "outputs": [
    {
     "name": "stdout",
     "output_type": "stream",
     "text": [
      "Dir :  ['DESCR', 'data', 'data_module', 'feature_names', 'filename', 'frame', 'target', 'target_names']\n",
      "Feature_names :  ['sepal length (cm)', 'sepal width (cm)', 'petal length (cm)', 'petal width (cm)']\n",
      "Target_names  :  ['setosa' 'versicolor' 'virginica']\n"
     ]
    },
    {
     "data": {
      "text/html": [
       "<div>\n",
       "<style scoped>\n",
       "    .dataframe tbody tr th:only-of-type {\n",
       "        vertical-align: middle;\n",
       "    }\n",
       "\n",
       "    .dataframe tbody tr th {\n",
       "        vertical-align: top;\n",
       "    }\n",
       "\n",
       "    .dataframe thead th {\n",
       "        text-align: right;\n",
       "    }\n",
       "</style>\n",
       "<table border=\"1\" class=\"dataframe\">\n",
       "  <thead>\n",
       "    <tr style=\"text-align: right;\">\n",
       "      <th></th>\n",
       "      <th>sepal length (cm)</th>\n",
       "      <th>sepal width (cm)</th>\n",
       "      <th>petal length (cm)</th>\n",
       "      <th>petal width (cm)</th>\n",
       "      <th>Category</th>\n",
       "    </tr>\n",
       "  </thead>\n",
       "  <tbody>\n",
       "    <tr>\n",
       "      <th>50</th>\n",
       "      <td>7.0</td>\n",
       "      <td>3.2</td>\n",
       "      <td>4.7</td>\n",
       "      <td>1.4</td>\n",
       "      <td>1</td>\n",
       "    </tr>\n",
       "    <tr>\n",
       "      <th>18</th>\n",
       "      <td>5.7</td>\n",
       "      <td>3.8</td>\n",
       "      <td>1.7</td>\n",
       "      <td>0.3</td>\n",
       "      <td>0</td>\n",
       "    </tr>\n",
       "    <tr>\n",
       "      <th>61</th>\n",
       "      <td>5.9</td>\n",
       "      <td>3.0</td>\n",
       "      <td>4.2</td>\n",
       "      <td>1.5</td>\n",
       "      <td>1</td>\n",
       "    </tr>\n",
       "    <tr>\n",
       "      <th>14</th>\n",
       "      <td>5.8</td>\n",
       "      <td>4.0</td>\n",
       "      <td>1.2</td>\n",
       "      <td>0.2</td>\n",
       "      <td>0</td>\n",
       "    </tr>\n",
       "    <tr>\n",
       "      <th>86</th>\n",
       "      <td>6.7</td>\n",
       "      <td>3.1</td>\n",
       "      <td>4.7</td>\n",
       "      <td>1.5</td>\n",
       "      <td>1</td>\n",
       "    </tr>\n",
       "  </tbody>\n",
       "</table>\n",
       "</div>"
      ],
      "text/plain": [
       "    sepal length (cm)  sepal width (cm)  petal length (cm)  petal width (cm)  \\\n",
       "50                7.0               3.2                4.7               1.4   \n",
       "18                5.7               3.8                1.7               0.3   \n",
       "61                5.9               3.0                4.2               1.5   \n",
       "14                5.8               4.0                1.2               0.2   \n",
       "86                6.7               3.1                4.7               1.5   \n",
       "\n",
       "    Category  \n",
       "50         1  \n",
       "18         0  \n",
       "61         1  \n",
       "14         0  \n",
       "86         1  "
      ]
     },
     "execution_count": 94,
     "metadata": {},
     "output_type": "execute_result"
    }
   ],
   "source": [
    "iris = load_iris()\n",
    "print(\"Dir : \",dir(iris))\n",
    "print(\"Feature_names : \",iris.feature_names)\n",
    "print(\"Target_names  : \",iris.target_names)\n",
    "df = pd.DataFrame(iris.data, columns=iris.feature_names)\n",
    "df['Category'] = iris.target\n",
    "\n",
    "df.sample(5)"
   ]
  },
  {
   "cell_type": "code",
   "execution_count": 95,
   "id": "8032c876",
   "metadata": {},
   "outputs": [
    {
     "name": "stdout",
     "output_type": "stream",
     "text": [
      "The shape of this dataset is  (150, 5)\n"
     ]
    }
   ],
   "source": [
    "print(\"The shape of this dataset is \",df.shape)"
   ]
  },
  {
   "cell_type": "code",
   "execution_count": 96,
   "id": "c42cbb8a",
   "metadata": {},
   "outputs": [
    {
     "name": "stdout",
     "output_type": "stream",
     "text": [
      "No. of elements in this dataset is  750\n"
     ]
    }
   ],
   "source": [
    "print(\"No. of elements in this dataset is \",df.size)"
   ]
  },
  {
   "cell_type": "code",
   "execution_count": 97,
   "id": "69d5ff21",
   "metadata": {},
   "outputs": [
    {
     "name": "stdout",
     "output_type": "stream",
     "text": [
      "<class 'pandas.core.frame.DataFrame'>\n",
      "RangeIndex: 150 entries, 0 to 149\n",
      "Data columns (total 5 columns):\n",
      " #   Column             Non-Null Count  Dtype  \n",
      "---  ------             --------------  -----  \n",
      " 0   sepal length (cm)  150 non-null    float64\n",
      " 1   sepal width (cm)   150 non-null    float64\n",
      " 2   petal length (cm)  150 non-null    float64\n",
      " 3   petal width (cm)   150 non-null    float64\n",
      " 4   Category           150 non-null    int32  \n",
      "dtypes: float64(4), int32(1)\n",
      "memory usage: 5.4 KB\n"
     ]
    }
   ],
   "source": [
    "df.info()"
   ]
  },
  {
   "cell_type": "markdown",
   "id": "312f98ef",
   "metadata": {},
   "source": [
    "# Data Cleaning"
   ]
  },
  {
   "cell_type": "code",
   "execution_count": 98,
   "id": "ce34997a",
   "metadata": {},
   "outputs": [
    {
     "data": {
      "text/html": [
       "<div>\n",
       "<style scoped>\n",
       "    .dataframe tbody tr th:only-of-type {\n",
       "        vertical-align: middle;\n",
       "    }\n",
       "\n",
       "    .dataframe tbody tr th {\n",
       "        vertical-align: top;\n",
       "    }\n",
       "\n",
       "    .dataframe thead th {\n",
       "        text-align: right;\n",
       "    }\n",
       "</style>\n",
       "<table border=\"1\" class=\"dataframe\">\n",
       "  <thead>\n",
       "    <tr style=\"text-align: right;\">\n",
       "      <th></th>\n",
       "      <th>sepal length (cm)</th>\n",
       "      <th>sepal width (cm)</th>\n",
       "      <th>petal length (cm)</th>\n",
       "      <th>petal width (cm)</th>\n",
       "      <th>Category</th>\n",
       "    </tr>\n",
       "  </thead>\n",
       "  <tbody>\n",
       "    <tr>\n",
       "      <th>142</th>\n",
       "      <td>5.8</td>\n",
       "      <td>2.7</td>\n",
       "      <td>5.1</td>\n",
       "      <td>1.9</td>\n",
       "      <td>2</td>\n",
       "    </tr>\n",
       "  </tbody>\n",
       "</table>\n",
       "</div>"
      ],
      "text/plain": [
       "     sepal length (cm)  sepal width (cm)  petal length (cm)  petal width (cm)  \\\n",
       "142                5.8               2.7                5.1               1.9   \n",
       "\n",
       "     Category  \n",
       "142         2  "
      ]
     },
     "execution_count": 98,
     "metadata": {},
     "output_type": "execute_result"
    }
   ],
   "source": [
    "df[df.duplicated()]"
   ]
  },
  {
   "cell_type": "code",
   "execution_count": 99,
   "id": "379c18bb",
   "metadata": {},
   "outputs": [
    {
     "data": {
      "text/html": [
       "<div>\n",
       "<style scoped>\n",
       "    .dataframe tbody tr th:only-of-type {\n",
       "        vertical-align: middle;\n",
       "    }\n",
       "\n",
       "    .dataframe tbody tr th {\n",
       "        vertical-align: top;\n",
       "    }\n",
       "\n",
       "    .dataframe thead th {\n",
       "        text-align: right;\n",
       "    }\n",
       "</style>\n",
       "<table border=\"1\" class=\"dataframe\">\n",
       "  <thead>\n",
       "    <tr style=\"text-align: right;\">\n",
       "      <th></th>\n",
       "      <th>sepal length (cm)</th>\n",
       "      <th>sepal width (cm)</th>\n",
       "      <th>petal length (cm)</th>\n",
       "      <th>petal width (cm)</th>\n",
       "      <th>Category</th>\n",
       "    </tr>\n",
       "  </thead>\n",
       "  <tbody>\n",
       "  </tbody>\n",
       "</table>\n",
       "</div>"
      ],
      "text/plain": [
       "Empty DataFrame\n",
       "Columns: [sepal length (cm), sepal width (cm), petal length (cm), petal width (cm), Category]\n",
       "Index: []"
      ]
     },
     "execution_count": 99,
     "metadata": {},
     "output_type": "execute_result"
    }
   ],
   "source": [
    "df.drop_duplicates(inplace=True)\n",
    "df[df.duplicated()]"
   ]
  },
  {
   "cell_type": "markdown",
   "id": "bd7fa1eb",
   "metadata": {},
   "source": [
    "# Splitting the dataset"
   ]
  },
  {
   "cell_type": "code",
   "execution_count": 100,
   "id": "2a3ccfba",
   "metadata": {},
   "outputs": [
    {
     "name": "stdout",
     "output_type": "stream",
     "text": [
      "There are 119 samples in the training set and 30 samples in the test set\n"
     ]
    }
   ],
   "source": [
    "X_train, X_test, Y_train, Y_test = train_test_split(df[iris.feature_names],df[\"Category\"], test_size=0.2)\n",
    "print('There are {} samples in the training set and {} samples in the test set'.format(X_train.shape[0], X_test.shape[0]))"
   ]
  },
  {
   "cell_type": "markdown",
   "id": "e92ef226",
   "metadata": {},
   "source": [
    "# Different types of Classification Models"
   ]
  },
  {
   "cell_type": "markdown",
   "id": "636f6819",
   "metadata": {},
   "source": [
    "# 1 - Logistic regression model"
   ]
  },
  {
   "cell_type": "code",
   "execution_count": 101,
   "id": "903189f7",
   "metadata": {},
   "outputs": [
    {
     "name": "stdout",
     "output_type": "stream",
     "text": [
      "Train Score :  0.9663865546218487\n",
      "Score :  0.9666666666666667\n",
      "Accuracy_score :  0.9666666666666667\n",
      "Confusion Matrix:\n",
      " [[10  0  0]\n",
      " [ 0 10  0]\n",
      " [ 0  1  9]]\n",
      "F1 score :  0.9665831244778613\n",
      "Classification Report : \n",
      "               precision    recall  f1-score   support\n",
      "\n",
      "           0       1.00      1.00      1.00        10\n",
      "           1       0.91      1.00      0.95        10\n",
      "           2       1.00      0.90      0.95        10\n",
      "\n",
      "    accuracy                           0.97        30\n",
      "   macro avg       0.97      0.97      0.97        30\n",
      "weighted avg       0.97      0.97      0.97        30\n",
      "\n"
     ]
    }
   ],
   "source": [
    "LRmodel = LogisticRegression()\n",
    "LRmodel.fit(X_train, Y_train)\n",
    "LRmodel_Pred = LRmodel.predict(X_test)\n",
    "print(\"Train Score : \",LRmodel.score(X_train,Y_train))\n",
    "print(\"Score : \",LRmodel.score(X_test,Y_test))\n",
    "print(\"Accuracy_score : \",accuracy_score(Y_test, LRmodel_Pred))\n",
    "print('Confusion Matrix:\\n', confusion_matrix(Y_test, LRmodel_Pred))\n",
    "print('F1 score : ', f1_score(Y_test, LRmodel_Pred, average='macro'))\n",
    "print('Classification Report : \\n', classification_report(Y_test, LRmodel_Pred))\n"
   ]
  },
  {
   "cell_type": "markdown",
   "id": "d53897dd",
   "metadata": {},
   "source": [
    "# 2 - Decision Tree Classifier Model"
   ]
  },
  {
   "cell_type": "code",
   "execution_count": 102,
   "id": "26affccc",
   "metadata": {},
   "outputs": [
    {
     "name": "stdout",
     "output_type": "stream",
     "text": [
      "Train Score :  1.0\n",
      "Score :  0.9\n",
      "Accuracy_score :  0.9\n",
      "Confusion Matrix:\n",
      " [[10  0  0]\n",
      " [ 0 10  0]\n",
      " [ 0  3  7]]\n",
      "F1 score :  0.8976982097186701\n",
      "Classification Report : \n",
      "               precision    recall  f1-score   support\n",
      "\n",
      "           0       1.00      1.00      1.00        10\n",
      "           1       0.77      1.00      0.87        10\n",
      "           2       1.00      0.70      0.82        10\n",
      "\n",
      "    accuracy                           0.90        30\n",
      "   macro avg       0.92      0.90      0.90        30\n",
      "weighted avg       0.92      0.90      0.90        30\n",
      "\n"
     ]
    }
   ],
   "source": [
    "from sklearn.tree import DecisionTreeClassifier\n",
    "\n",
    "DTmodel = DecisionTreeClassifier()\n",
    "DTmodel.fit(X_train,Y_train)\n",
    "DTmodel_Pred = DTmodel.predict(X_test)\n",
    "print(\"Train Score : \",DTmodel.score(X_train,Y_train))\n",
    "print(\"Score : \",DTmodel.score(X_test,Y_test))\n",
    "print(\"Accuracy_score : \",accuracy_score(Y_test, DTmodel_Pred))\n",
    "print('Confusion Matrix:\\n', confusion_matrix(Y_test, DTmodel_Pred))\n",
    "print('F1 score : ', f1_score(Y_test, DTmodel_Pred, average='macro'))\n",
    "print('Classification Report : \\n', classification_report(Y_test, DTmodel_Pred))\n"
   ]
  },
  {
   "cell_type": "markdown",
   "id": "774b9037",
   "metadata": {},
   "source": [
    "# Hyper Parameter tuning of Decision Tree Classifier"
   ]
  },
  {
   "cell_type": "code",
   "execution_count": 103,
   "id": "f457e2a3",
   "metadata": {},
   "outputs": [
    {
     "name": "stdout",
     "output_type": "stream",
     "text": [
      " Results from Grid Search \n",
      "\n",
      " The best estimator across ALL searched params:\n",
      " DecisionTreeClassifier(criterion='log_loss', max_depth=8, max_features='log2',\n",
      "                       splitter='random')\n",
      "\n",
      " The best score across ALL searched params:\n",
      " 0.975\n",
      "\n",
      " The best parameters across ALL searched params:\n",
      " {'criterion': 'log_loss', 'max_depth': 8, 'max_features': 'log2', 'splitter': 'random'}\n",
      "\n",
      "Score :  0.9333333333333333\n",
      "Accuracy_score :  0.9333333333333333\n",
      "Confusion Matrix:\n",
      " [[10  0  0]\n",
      " [ 0  9  1]\n",
      " [ 0  1  9]]\n",
      "F1 score :  0.9333333333333332\n",
      "Classification Report : \n",
      "               precision    recall  f1-score   support\n",
      "\n",
      "           0       1.00      1.00      1.00        10\n",
      "           1       0.90      0.90      0.90        10\n",
      "           2       0.90      0.90      0.90        10\n",
      "\n",
      "    accuracy                           0.93        30\n",
      "   macro avg       0.93      0.93      0.93        30\n",
      "weighted avg       0.93      0.93      0.93        30\n",
      "\n"
     ]
    },
    {
     "name": "stderr",
     "output_type": "stream",
     "text": [
      "C:\\Users\\Mathew\\AppData\\Local\\Programs\\Python\\Python311\\Lib\\site-packages\\sklearn\\model_selection\\_validation.py:425: FitFailedWarning: \n",
      "240 fits failed out of a total of 720.\n",
      "The score on these train-test partitions for these parameters will be set to nan.\n",
      "If these failures are not expected, you can try to debug them by setting error_score='raise'.\n",
      "\n",
      "Below are more details about the failures:\n",
      "--------------------------------------------------------------------------------\n",
      "240 fits failed with the following error:\n",
      "Traceback (most recent call last):\n",
      "  File \"C:\\Users\\Mathew\\AppData\\Local\\Programs\\Python\\Python311\\Lib\\site-packages\\sklearn\\model_selection\\_validation.py\", line 729, in _fit_and_score\n",
      "    estimator.fit(X_train, y_train, **fit_params)\n",
      "  File \"C:\\Users\\Mathew\\AppData\\Local\\Programs\\Python\\Python311\\Lib\\site-packages\\sklearn\\base.py\", line 1145, in wrapper\n",
      "    estimator._validate_params()\n",
      "  File \"C:\\Users\\Mathew\\AppData\\Local\\Programs\\Python\\Python311\\Lib\\site-packages\\sklearn\\base.py\", line 638, in _validate_params\n",
      "    validate_parameter_constraints(\n",
      "  File \"C:\\Users\\Mathew\\AppData\\Local\\Programs\\Python\\Python311\\Lib\\site-packages\\sklearn\\utils\\_param_validation.py\", line 95, in validate_parameter_constraints\n",
      "    raise InvalidParameterError(\n",
      "sklearn.utils._param_validation.InvalidParameterError: The 'max_features' parameter of DecisionTreeClassifier must be an int in the range [1, inf), a float in the range (0.0, 1.0], a str among {'sqrt', 'log2'} or None. Got 'auto' instead.\n",
      "\n",
      "  warnings.warn(some_fits_failed_message, FitFailedWarning)\n",
      "C:\\Users\\Mathew\\AppData\\Local\\Programs\\Python\\Python311\\Lib\\site-packages\\sklearn\\model_selection\\_search.py:979: UserWarning: One or more of the test scores are non-finite: [       nan        nan 0.95833333 0.7807971  0.94166667 0.80688406\n",
      "        nan        nan 0.95833333 0.91594203 0.925      0.83188406\n",
      "        nan        nan 0.96666667 0.91666667 0.95       0.87318841\n",
      "        nan        nan 0.95833333 0.9076087  0.94166667 0.94130435\n",
      "        nan        nan 0.90724638 0.93333333 0.95833333 0.93333333\n",
      "        nan        nan 0.95833333 0.94963768 0.95       0.93297101\n",
      "        nan        nan 0.94963768 0.94166667 0.93297101 0.92427536\n",
      "        nan        nan 0.95833333 0.89057971 0.95       0.93333333\n",
      "        nan        nan 0.95833333 0.69927536 0.95       0.84927536\n",
      "        nan        nan 0.92427536 0.86594203 0.94963768 0.89927536\n",
      "        nan        nan 0.94166667 0.8826087  0.95       0.89166667\n",
      "        nan        nan 0.94166667 0.95       0.9326087  0.94094203\n",
      "        nan        nan 0.95       0.9576087  0.94130435 0.94166667\n",
      "        nan        nan 0.9326087  0.91666667 0.95833333 0.94963768\n",
      "        nan        nan 0.96666667 0.94130435 0.94166667 0.91485507\n",
      "        nan        nan 0.95833333 0.9076087  0.94166667 0.95\n",
      "        nan        nan 0.96666667 0.76449275 0.92427536 0.72210145\n",
      "        nan        nan 0.95       0.9        0.95833333 0.85\n",
      "        nan        nan 0.91630435 0.95833333 0.95833333 0.91630435\n",
      "        nan        nan 0.94094203 0.95       0.92463768 0.90724638\n",
      "        nan        nan 0.95833333 0.925      0.95       0.92391304\n",
      "        nan        nan 0.96666667 0.9326087  0.95797101 0.975\n",
      "        nan        nan 0.95       0.93333333 0.95833333 0.925\n",
      "        nan        nan 0.95833333 0.95       0.94130435 0.95833333]\n",
      "  warnings.warn(\n"
     ]
    }
   ],
   "source": [
    "from sklearn.tree import DecisionTreeClassifier\n",
    "\n",
    "parameter={\n",
    "    'criterion':['gini','entropy','log_loss'],\n",
    "    'max_depth':[3,4,5,6,7,8,9,10],\n",
    "    'max_features':['auto','sqrt','log2'],\n",
    "    'splitter':['best', 'random']\n",
    "}\n",
    "\n",
    "DTmodel = DecisionTreeClassifier()\n",
    "\n",
    "cv=GridSearchCV(DTmodel,parameter,scoring='accuracy')\n",
    "cv.fit(X_train,Y_train)\n",
    "\n",
    "print(\" Results from Grid Search \" )\n",
    "print(\"\\n The best estimator across ALL searched params:\\n\",cv.best_estimator_)\n",
    "print(\"\\n The best score across ALL searched params:\\n\",cv.best_score_)\n",
    "print(\"\\n The best parameters across ALL searched params:\\n\",cv.best_params_)\n",
    "\n",
    "cv_model=cv.best_estimator_\n",
    "DTmodel.fit(X_train, Y_train)\n",
    "DTmodel_Pred = cv_model.predict(X_test)\n",
    "\n",
    "print(\"\\nScore : \",cv_model.score(X_test,Y_test))\n",
    "print(\"Accuracy_score : \",accuracy_score(Y_test, DTmodel_Pred))\n",
    "print('Confusion Matrix:\\n', confusion_matrix(Y_test, DTmodel_Pred))\n",
    "print('F1 score : ', f1_score(Y_test, DTmodel_Pred, average='macro'))\n",
    "print('Classification Report : \\n', classification_report(Y_test, DTmodel_Pred))\n"
   ]
  },
  {
   "cell_type": "markdown",
   "id": "5ffb9b7f",
   "metadata": {},
   "source": [
    "# 3 - Random Forest Classifier Model"
   ]
  },
  {
   "cell_type": "code",
   "execution_count": 104,
   "id": "855b5d2b",
   "metadata": {},
   "outputs": [
    {
     "name": "stdout",
     "output_type": "stream",
     "text": [
      "Train Score :  1.0\n",
      "Score :  0.9\n",
      "Accuracy_score :  0.9\n",
      "Confusion Matrix:\n",
      " [[10  0  0]\n",
      " [ 0 10  0]\n",
      " [ 0  3  7]]\n",
      "F1 score :  0.8976982097186701\n",
      "Classification Report : \n",
      "               precision    recall  f1-score   support\n",
      "\n",
      "           0       1.00      1.00      1.00        10\n",
      "           1       0.77      1.00      0.87        10\n",
      "           2       1.00      0.70      0.82        10\n",
      "\n",
      "    accuracy                           0.90        30\n",
      "   macro avg       0.92      0.90      0.90        30\n",
      "weighted avg       0.92      0.90      0.90        30\n",
      "\n"
     ]
    }
   ],
   "source": [
    "from sklearn.ensemble import RandomForestClassifier \n",
    "\n",
    "\n",
    "RFCmodel = RandomForestClassifier()\n",
    "\n",
    "\n",
    "RFCmodel.fit(X_train, Y_train)\n",
    "RFCmodel_Pred = RFCmodel.predict(X_test)\n",
    "\n",
    "print(\"Train Score : \",RFCmodel.score(X_train,Y_train))\n",
    "print(\"Score : \",RFCmodel.score(X_test,Y_test))\n",
    "print(\"Accuracy_score : \",accuracy_score(Y_test, RFCmodel_Pred))\n",
    "print('Confusion Matrix:\\n', confusion_matrix(Y_test, RFCmodel_Pred))\n",
    "print('F1 score : ', f1_score(Y_test, RFCmodel_Pred, average='macro'))\n",
    "print('Classification Report : \\n', classification_report(Y_test, RFCmodel_Pred))\n"
   ]
  },
  {
   "cell_type": "markdown",
   "id": "fa7b2910",
   "metadata": {},
   "source": [
    "# Hyper Parameter tuning of Random Forest Classifier "
   ]
  },
  {
   "cell_type": "code",
   "execution_count": 105,
   "id": "72f3a1af",
   "metadata": {},
   "outputs": [
    {
     "name": "stdout",
     "output_type": "stream",
     "text": [
      " Results from Grid Search \n",
      "\n",
      " The best estimator across ALL searched params:\n",
      " RandomForestClassifier(max_depth=2, max_features=None, n_estimators=10)\n",
      "\n",
      " The best score across ALL searched params:\n",
      " 0.9666666666666668\n",
      "\n",
      " The best parameters across ALL searched params:\n",
      " {'bootstrap': True, 'criterion': 'gini', 'max_depth': 2, 'max_features': None, 'n_estimators': 10}\n",
      "Score :  0.9\n",
      "Accuracy_score :  0.9\n",
      "Confusion Matrix:\n",
      " [[10  0  0]\n",
      " [ 0 10  0]\n",
      " [ 0  3  7]]\n",
      "F1 score :  0.8976982097186701\n",
      "Classification Report : \n",
      "               precision    recall  f1-score   support\n",
      "\n",
      "           0       1.00      1.00      1.00        10\n",
      "           1       0.77      1.00      0.87        10\n",
      "           2       1.00      0.70      0.82        10\n",
      "\n",
      "    accuracy                           0.90        30\n",
      "   macro avg       0.92      0.90      0.90        30\n",
      "weighted avg       0.92      0.90      0.90        30\n",
      "\n"
     ]
    }
   ],
   "source": [
    "from sklearn.ensemble import RandomForestClassifier \n",
    "\n",
    "parameter={\n",
    "    'n_estimators':[10,50,100],\n",
    "    'criterion':['gini','entropy','log_loss'],\n",
    "    'max_depth':np.arange(2,10,2),\n",
    "    'max_features':[None,'sqrt','log2'],\n",
    "    \"bootstrap\": [True, False]\n",
    "    \n",
    "}\n",
    "\n",
    "RFCmodel = RandomForestClassifier()\n",
    "\n",
    "cv=GridSearchCV(RFCmodel,parameter,scoring='accuracy')\n",
    "cv.fit(X_train,Y_train)\n",
    "\n",
    "print(\" Results from Grid Search \" )\n",
    "print(\"\\n The best estimator across ALL searched params:\\n\",cv.best_estimator_)\n",
    "print(\"\\n The best score across ALL searched params:\\n\",cv.best_score_)\n",
    "print(\"\\n The best parameters across ALL searched params:\\n\",cv.best_params_)\n",
    "\n",
    "cv_model=cv.best_estimator_\n",
    "cv_model.fit(X_train, Y_train)\n",
    "RFCmodel_Pred = cv_model.predict(X_test)\n",
    "\n",
    "\n",
    "print(\"Score : \",cv_model.score(X_test,Y_test))\n",
    "print(\"Accuracy_score : \",accuracy_score(Y_test, RFCmodel_Pred))\n",
    "print('Confusion Matrix:\\n', confusion_matrix(Y_test, RFCmodel_Pred))\n",
    "print('F1 score : ', f1_score(Y_test, RFCmodel_Pred, average='macro'))\n",
    "print('Classification Report : \\n', classification_report(Y_test, RFCmodel_Pred))\n"
   ]
  },
  {
   "cell_type": "markdown",
   "id": "e43bf3f8",
   "metadata": {},
   "source": [
    "# 4 - Ada Boost Classifier Model"
   ]
  },
  {
   "cell_type": "code",
   "execution_count": 106,
   "id": "2ff94a10",
   "metadata": {},
   "outputs": [
    {
     "name": "stdout",
     "output_type": "stream",
     "text": [
      "Train Score :  0.9747899159663865\n",
      "Score :  0.9\n",
      "Accuracy_score :  0.9\n",
      "Confusion Matrix:\n",
      " [[10  0  0]\n",
      " [ 0 10  0]\n",
      " [ 0  3  7]]\n",
      "F1 score :  0.8976982097186701\n",
      "Classification Report : \n",
      "               precision    recall  f1-score   support\n",
      "\n",
      "           0       1.00      1.00      1.00        10\n",
      "           1       0.77      1.00      0.87        10\n",
      "           2       1.00      0.70      0.82        10\n",
      "\n",
      "    accuracy                           0.90        30\n",
      "   macro avg       0.92      0.90      0.90        30\n",
      "weighted avg       0.92      0.90      0.90        30\n",
      "\n"
     ]
    }
   ],
   "source": [
    "from sklearn.ensemble import AdaBoostClassifier \n",
    "AdaBCmodel = AdaBoostClassifier()\n",
    "AdaBCmodel.fit(X_train, Y_train)\n",
    "AdaBCmodel_Pred = AdaBCmodel.predict(X_test)\n",
    "print(\"Train Score : \",AdaBCmodel.score(X_train,Y_train))\n",
    "print(\"Score : \",AdaBCmodel.score(X_test,Y_test))\n",
    "print(\"Accuracy_score : \",accuracy_score(Y_test, AdaBCmodel_Pred))\n",
    "print('Confusion Matrix:\\n', confusion_matrix(Y_test, AdaBCmodel_Pred))\n",
    "print('F1 score : ', f1_score(Y_test, AdaBCmodel_Pred, average='macro'))\n",
    "print('Classification Report : \\n', classification_report(Y_test, AdaBCmodel_Pred))\n"
   ]
  },
  {
   "cell_type": "markdown",
   "id": "81bb19d0",
   "metadata": {},
   "source": [
    "# 5 - Gradient Boosting Classifier Model"
   ]
  },
  {
   "cell_type": "code",
   "execution_count": 107,
   "id": "013a9042",
   "metadata": {},
   "outputs": [
    {
     "name": "stdout",
     "output_type": "stream",
     "text": [
      "Train Score :  1.0\n",
      "Score :  0.9\n",
      "Accuracy_score :  0.9\n",
      "Confusion Matrix:\n",
      " [[10  0  0]\n",
      " [ 0 10  0]\n",
      " [ 0  3  7]]\n",
      "F1 score :  0.8976982097186701\n",
      "Classification Report : \n",
      "               precision    recall  f1-score   support\n",
      "\n",
      "           0       1.00      1.00      1.00        10\n",
      "           1       0.77      1.00      0.87        10\n",
      "           2       1.00      0.70      0.82        10\n",
      "\n",
      "    accuracy                           0.90        30\n",
      "   macro avg       0.92      0.90      0.90        30\n",
      "weighted avg       0.92      0.90      0.90        30\n",
      "\n"
     ]
    }
   ],
   "source": [
    "from sklearn.ensemble import GradientBoostingClassifier\n",
    "GBCmodel = GradientBoostingClassifier()\n",
    "GBCmodel.fit(X_train, Y_train)\n",
    "GBCmodel_Pred = GBCmodel.predict(X_test)\n",
    "print(\"Train Score : \",GBCmodel.score(X_train,Y_train))\n",
    "print(\"Score : \",GBCmodel.score(X_test,Y_test))\n",
    "print(\"Accuracy_score : \",accuracy_score(Y_test, GBCmodel_Pred))\n",
    "print('Confusion Matrix:\\n', confusion_matrix(Y_test, GBCmodel_Pred))\n",
    "print('F1 score : ', f1_score(Y_test, GBCmodel_Pred, average='macro'))\n",
    "print('Classification Report : \\n', classification_report(Y_test, GBCmodel_Pred))\n"
   ]
  },
  {
   "cell_type": "markdown",
   "id": "b209eb1e",
   "metadata": {},
   "source": [
    "# 6 - XGB Classifier Model"
   ]
  },
  {
   "cell_type": "code",
   "execution_count": 108,
   "id": "4716b9d4",
   "metadata": {},
   "outputs": [
    {
     "name": "stdout",
     "output_type": "stream",
     "text": [
      "Train Score :  1.0\n",
      " Test Score :  0.9\n",
      "Accuracy_score :  0.9\n",
      "Confusion Matrix:\n",
      " [[10  0  0]\n",
      " [ 0 10  0]\n",
      " [ 0  3  7]]\n",
      "F1 score :  0.8976982097186701\n",
      "Classification Report : \n",
      "               precision    recall  f1-score   support\n",
      "\n",
      "           0       1.00      1.00      1.00        10\n",
      "           1       0.77      1.00      0.87        10\n",
      "           2       1.00      0.70      0.82        10\n",
      "\n",
      "    accuracy                           0.90        30\n",
      "   macro avg       0.92      0.90      0.90        30\n",
      "weighted avg       0.92      0.90      0.90        30\n",
      "\n"
     ]
    }
   ],
   "source": [
    "import xgboost as xgb\n",
    "XGBmodel = xgb.XGBClassifier()\n",
    "XGBmodel.fit(X_train, Y_train)\n",
    "XGBmodel_Pred = XGBmodel.predict(X_test)\n",
    "print(\"Train Score : \",XGBmodel.score(X_train,Y_train))\n",
    "print(\" Test Score : \",XGBmodel.score(X_test,Y_test))\n",
    "print(\"Accuracy_score : \",accuracy_score(Y_test, XGBmodel_Pred))\n",
    "print('Confusion Matrix:\\n', confusion_matrix(Y_test, XGBmodel_Pred))\n",
    "print('F1 score : ', f1_score(Y_test, XGBmodel_Pred, average='macro'))\n",
    "print('Classification Report : \\n', classification_report(Y_test, XGBmodel_Pred))\n"
   ]
  },
  {
   "cell_type": "markdown",
   "id": "0d370007",
   "metadata": {},
   "source": [
    "# 7 - SVC Model"
   ]
  },
  {
   "cell_type": "code",
   "execution_count": 109,
   "id": "0af77074",
   "metadata": {},
   "outputs": [
    {
     "name": "stdout",
     "output_type": "stream",
     "text": [
      "Train Score :  0.957983193277311\n",
      "Test Score :  0.9666666666666667\n",
      "F1 score :  0.9665831244778613\n",
      "Classification Report : \n",
      "               precision    recall  f1-score   support\n",
      "\n",
      "           0       1.00      1.00      1.00        10\n",
      "           1       0.91      1.00      0.95        10\n",
      "           2       1.00      0.90      0.95        10\n",
      "\n",
      "    accuracy                           0.97        30\n",
      "   macro avg       0.97      0.97      0.97        30\n",
      "weighted avg       0.97      0.97      0.97        30\n",
      "\n"
     ]
    }
   ],
   "source": [
    "from sklearn.svm import SVC \n",
    "SVCmodel = SVC()\n",
    "SVCmodel.fit(X_train, Y_train)\n",
    "SVCmodel_Pred = SVCmodel.predict(X_test)\n",
    "print(\"Train Score : \",SVCmodel.score(X_train,Y_train))\n",
    "print(\"Test Score : \",SVCmodel.score(X_test,Y_test))\n",
    "#print(\"Accuracy_score : \",SVCmodel_Pred(Y_test, SVCmodel_Pred,average='macro'))\n",
    "#print('Confusion Matrix:\\n', SVCmodel_Pred(Y_test, LRmodel_Pred))\n",
    "print('F1 score : ', f1_score(Y_test, SVCmodel_Pred, average='macro'))\n",
    "print('Classification Report : \\n', classification_report(Y_test, SVCmodel_Pred))\n"
   ]
  },
  {
   "cell_type": "markdown",
   "id": "6b11a54b",
   "metadata": {},
   "source": [
    "# Hyper Parameter tuning of Support Vector Classifier "
   ]
  },
  {
   "cell_type": "code",
   "execution_count": 110,
   "id": "5bb04918",
   "metadata": {},
   "outputs": [
    {
     "name": "stdout",
     "output_type": "stream",
     "text": [
      " Results from Grid Search \n",
      "\n",
      " The best estimator across ALL searched params:\n",
      " SVC(C=10, gamma=0.1, kernel='poly')\n",
      "\n",
      " The best score across ALL searched params:\n",
      " 0.9916666666666668\n",
      "\n",
      " The best parameters across ALL searched params:\n",
      " {'C': 10, 'degree': 3, 'gamma': 0.1, 'kernel': 'poly'}\n",
      "Score :  0.8666666666666667\n",
      "F1 score :  0.8653198653198654\n",
      "Classification Report : \n",
      "               precision    recall  f1-score   support\n",
      "\n",
      "           0       1.00      1.00      1.00        10\n",
      "           1       0.75      0.90      0.82        10\n",
      "           2       0.88      0.70      0.78        10\n",
      "\n",
      "    accuracy                           0.87        30\n",
      "   macro avg       0.88      0.87      0.87        30\n",
      "weighted avg       0.88      0.87      0.87        30\n",
      "\n"
     ]
    }
   ],
   "source": [
    "parameter = {\n",
    "    'C': [0.1, 1, 3, 10],          \n",
    "    'gamma': [0.001, 0.01, 0.1],\n",
    "    'degree': [2, 3, 4, 5],\n",
    "    'kernel': ['linear','poly','rbf','sigmoid']\n",
    "}\n",
    "\n",
    "\n",
    "\n",
    "cv=GridSearchCV(SVCmodel,parameter,scoring='accuracy')\n",
    "cv.fit(X_train,Y_train)\n",
    "\n",
    "print(\" Results from Grid Search \" )\n",
    "print(\"\\n The best estimator across ALL searched params:\\n\",cv.best_estimator_)\n",
    "print(\"\\n The best score across ALL searched params:\\n\",cv.best_score_)\n",
    "print(\"\\n The best parameters across ALL searched params:\\n\",cv.best_params_)\n",
    "\n",
    "cv_model=cv.best_estimator_\n",
    "cv_model.fit(X_train, Y_train)\n",
    "SVCmodel_Pred = cv_model.predict(X_test)\n",
    "\n",
    "\n",
    "print(\"Score : \",cv_model.score(X_test,Y_test))\n",
    "#print(\"Accuracy_score : \",accuracy_score(Y_test, SVCmodel_Pred))\n",
    "#print('Confusion Matrix:\\n', confusion_matrix(Y_test, SVCmodel_Pred))\n",
    "print('F1 score : ', f1_score(Y_test, SVCmodel_Pred, average='macro'))\n",
    "print('Classification Report : \\n', classification_report(Y_test, SVCmodel_Pred))\n"
   ]
  },
  {
   "cell_type": "markdown",
   "id": "28590812",
   "metadata": {},
   "source": [
    "# 8 - KNeighbors Classifier Model"
   ]
  },
  {
   "cell_type": "code",
   "execution_count": 111,
   "id": "1615949d",
   "metadata": {},
   "outputs": [
    {
     "name": "stdout",
     "output_type": "stream",
     "text": [
      "Train Score :  0.9663865546218487\n",
      "Test Score :  1.0\n",
      "Accuracy_score :  1.0\n",
      "Confusion Matrix:\n",
      " [[10  0  0]\n",
      " [ 0 10  0]\n",
      " [ 0  0 10]]\n",
      "F1 score :  1.0\n",
      "Classification Report : \n",
      "               precision    recall  f1-score   support\n",
      "\n",
      "           0       1.00      1.00      1.00        10\n",
      "           1       1.00      1.00      1.00        10\n",
      "           2       1.00      1.00      1.00        10\n",
      "\n",
      "    accuracy                           1.00        30\n",
      "   macro avg       1.00      1.00      1.00        30\n",
      "weighted avg       1.00      1.00      1.00        30\n",
      "\n"
     ]
    }
   ],
   "source": [
    "from sklearn.neighbors import KNeighborsClassifier\n",
    "KNNmodel = KNeighborsClassifier()\n",
    "KNNmodel.fit(X_train, Y_train)\n",
    "KNNmodel_Pred = KNNmodel.predict(X_test)\n",
    "print(\"Train Score : \",KNNmodel.score(X_train,Y_train))\n",
    "print(\"Test Score : \",KNNmodel.score(X_test,Y_test))\n",
    "print(\"Accuracy_score : \",accuracy_score(Y_test, KNNmodel_Pred))\n",
    "print('Confusion Matrix:\\n', confusion_matrix(Y_test, KNNmodel_Pred))\n",
    "print('F1 score : ', f1_score(Y_test, KNNmodel_Pred, average='macro'))\n",
    "print('Classification Report : \\n', classification_report(Y_test, KNNmodel_Pred))\n"
   ]
  },
  {
   "cell_type": "markdown",
   "id": "89045bb9",
   "metadata": {},
   "source": [
    "# Hyper Parameter tuning of KNeighbors Classifier"
   ]
  },
  {
   "cell_type": "code",
   "execution_count": 112,
   "id": "c06c2e93",
   "metadata": {
    "scrolled": true
   },
   "outputs": [
    {
     "name": "stdout",
     "output_type": "stream",
     "text": [
      " Results from Grid Search \n",
      "\n",
      " The best estimator across ALL searched params:\n",
      " KNeighborsClassifier()\n",
      "\n",
      " The best score across ALL searched params:\n",
      " 0.9666666666666668\n",
      "\n",
      " The best parameters across ALL searched params:\n",
      " {'algorithm': 'auto', 'n_neighbors': 5, 'weights': 'uniform'}\n",
      "Score :  1.0\n",
      "Accuracy_score :  1.0\n",
      "Confusion Matrix:\n",
      " [[10  0  0]\n",
      " [ 0 10  0]\n",
      " [ 0  0 10]]\n",
      "F1 score :  1.0\n",
      " Classification Report : \n",
      "               precision    recall  f1-score   support\n",
      "\n",
      "           0       1.00      1.00      1.00        10\n",
      "           1       1.00      1.00      1.00        10\n",
      "           2       1.00      1.00      1.00        10\n",
      "\n",
      "    accuracy                           1.00        30\n",
      "   macro avg       1.00      1.00      1.00        30\n",
      "weighted avg       1.00      1.00      1.00        30\n",
      "\n"
     ]
    }
   ],
   "source": [
    "parameter={\n",
    "    'n_neighbors': [3, 5, 7, 9, 11], \n",
    "    'weights': ['uniform', 'distance',None],  \n",
    "    'algorithm':['auto', 'ball_tree', 'kd_tree', 'brute']\n",
    "    \n",
    "}\n",
    "\n",
    "\n",
    "KNNmodel = KNeighborsClassifier()\n",
    "\n",
    "cv=GridSearchCV(KNNmodel,parameter,scoring='accuracy')\n",
    "cv.fit(X_train,Y_train)\n",
    "\n",
    "print(\" Results from Grid Search \" )\n",
    "print(\"\\n The best estimator across ALL searched params:\\n\",cv.best_estimator_)\n",
    "print(\"\\n The best score across ALL searched params:\\n\",cv.best_score_)\n",
    "print(\"\\n The best parameters across ALL searched params:\\n\",cv.best_params_)\n",
    "\n",
    "cv_model=cv.best_estimator_\n",
    "cv_model.fit(X_train, Y_train)\n",
    "KNNmodel_Pred = cv_model.predict(X_test)\n",
    "\n",
    "\n",
    "\n",
    "print(\"Score : \",cv_model.score(X_test,Y_test))\n",
    "print(\"Accuracy_score : \",accuracy_score(Y_test, KNNmodel_Pred))\n",
    "print('Confusion Matrix:\\n', confusion_matrix(Y_test, KNNmodel_Pred))\n",
    "print('F1 score : ', f1_score(Y_test, KNNmodel_Pred, average='macro'))\n",
    "print(' Classification Report : \\n', classification_report(Y_test, KNNmodel_Pred))"
   ]
  },
  {
   "cell_type": "markdown",
   "id": "8a265cfb",
   "metadata": {},
   "source": [
    "# 9 - Naive Bayes"
   ]
  },
  {
   "cell_type": "code",
   "execution_count": 113,
   "id": "32c5e856",
   "metadata": {},
   "outputs": [
    {
     "name": "stdout",
     "output_type": "stream",
     "text": [
      "Total no of mislabelled datapoints : 2\n",
      "Score :  0.9333333333333333\n",
      "Accuracy_score :  0.9333333333333333\n",
      "Confusion Matrix:\n",
      " [[10  0  0]\n",
      " [ 0 10  0]\n",
      " [ 0  2  8]]\n",
      "F1 score :  0.9326599326599326\n",
      " Classification Report : \n",
      "               precision    recall  f1-score   support\n",
      "\n",
      "           0       1.00      1.00      1.00        10\n",
      "           1       1.00      0.83      0.91        12\n",
      "           2       0.80      1.00      0.89         8\n",
      "\n",
      "    accuracy                           0.93        30\n",
      "   macro avg       0.93      0.94      0.93        30\n",
      "weighted avg       0.95      0.93      0.93        30\n",
      "\n"
     ]
    }
   ],
   "source": [
    "from sklearn.naive_bayes import GaussianNB\n",
    "NBCModel = GaussianNB()\n",
    "NBCModel.fit(X_train, Y_train)\n",
    "y_pred = NBCModel.predict(X_test)\n",
    "#print(y_pred)\n",
    "#print(Y_test)\n",
    "mislabel = np.sum(Y_test != y_pred)\n",
    "print(\"Total no of mislabelled datapoints :\",mislabel)\n",
    "\n",
    "print(\"Score : \",NBCModel.score(X_test,Y_test))\n",
    "print(\"Accuracy_score : \",accuracy_score(Y_test, y_pred))\n",
    "print('Confusion Matrix:\\n', confusion_matrix(Y_test, y_pred))\n",
    "print('F1 score : ', f1_score(Y_test, y_pred, average='macro'))\n",
    "print(' Classification Report : \\n',classification_report(y_pred, Y_test))"
   ]
  },
  {
   "cell_type": "markdown",
   "id": "af921169",
   "metadata": {},
   "source": [
    "# Unsupervised"
   ]
  },
  {
   "cell_type": "code",
   "execution_count": 127,
   "id": "c154b757",
   "metadata": {},
   "outputs": [
    {
     "name": "stdout",
     "output_type": "stream",
     "text": [
      "     sepal length (cm)  sepal width (cm)  petal length (cm)  petal width (cm)  \\\n",
      "0                 0.22              0.62               0.07              0.04   \n",
      "1                 0.17              0.42               0.07              0.04   \n",
      "2                 0.11              0.50               0.05              0.04   \n",
      "3                 0.08              0.46               0.08              0.04   \n",
      "4                 0.19              0.67               0.07              0.04   \n",
      "..                 ...               ...                ...               ...   \n",
      "145               0.67              0.42               0.71              0.92   \n",
      "146               0.56              0.21               0.68              0.75   \n",
      "147               0.61              0.42               0.71              0.79   \n",
      "148               0.53              0.58               0.75              0.92   \n",
      "149               0.44              0.42               0.69              0.71   \n",
      "\n",
      "     Category  \n",
      "0         0.0  \n",
      "1         0.0  \n",
      "2         0.0  \n",
      "3         0.0  \n",
      "4         0.0  \n",
      "..        ...  \n",
      "145       1.0  \n",
      "146       1.0  \n",
      "147       1.0  \n",
      "148       1.0  \n",
      "149       1.0  \n",
      "\n",
      "[149 rows x 5 columns]\n"
     ]
    }
   ],
   "source": [
    "\n",
    "X=iris.data\n"
   ]
  },
  {
   "cell_type": "markdown",
   "id": "7dd4adb7",
   "metadata": {},
   "source": [
    "# KMeans"
   ]
  },
  {
   "cell_type": "code",
   "execution_count": 115,
   "id": "8a9519e6",
   "metadata": {},
   "outputs": [
    {
     "name": "stderr",
     "output_type": "stream",
     "text": [
      "C:\\Users\\Mathew\\AppData\\Local\\Programs\\Python\\Python311\\Lib\\site-packages\\sklearn\\cluster\\_kmeans.py:1416: FutureWarning: The default value of `n_init` will change from 10 to 'auto' in 1.4. Set the value of `n_init` explicitly to suppress the warning\n",
      "  super()._check_params_vs_input(X, default_n_init=10)\n",
      "C:\\Users\\Mathew\\AppData\\Local\\Programs\\Python\\Python311\\Lib\\site-packages\\sklearn\\cluster\\_kmeans.py:1416: FutureWarning: The default value of `n_init` will change from 10 to 'auto' in 1.4. Set the value of `n_init` explicitly to suppress the warning\n",
      "  super()._check_params_vs_input(X, default_n_init=10)\n",
      "C:\\Users\\Mathew\\AppData\\Local\\Programs\\Python\\Python311\\Lib\\site-packages\\sklearn\\cluster\\_kmeans.py:1416: FutureWarning: The default value of `n_init` will change from 10 to 'auto' in 1.4. Set the value of `n_init` explicitly to suppress the warning\n",
      "  super()._check_params_vs_input(X, default_n_init=10)\n",
      "C:\\Users\\Mathew\\AppData\\Local\\Programs\\Python\\Python311\\Lib\\site-packages\\sklearn\\cluster\\_kmeans.py:1416: FutureWarning: The default value of `n_init` will change from 10 to 'auto' in 1.4. Set the value of `n_init` explicitly to suppress the warning\n",
      "  super()._check_params_vs_input(X, default_n_init=10)\n",
      "C:\\Users\\Mathew\\AppData\\Local\\Programs\\Python\\Python311\\Lib\\site-packages\\sklearn\\cluster\\_kmeans.py:1416: FutureWarning: The default value of `n_init` will change from 10 to 'auto' in 1.4. Set the value of `n_init` explicitly to suppress the warning\n",
      "  super()._check_params_vs_input(X, default_n_init=10)\n",
      "C:\\Users\\Mathew\\AppData\\Local\\Programs\\Python\\Python311\\Lib\\site-packages\\sklearn\\cluster\\_kmeans.py:1416: FutureWarning: The default value of `n_init` will change from 10 to 'auto' in 1.4. Set the value of `n_init` explicitly to suppress the warning\n",
      "  super()._check_params_vs_input(X, default_n_init=10)\n",
      "C:\\Users\\Mathew\\AppData\\Local\\Programs\\Python\\Python311\\Lib\\site-packages\\sklearn\\cluster\\_kmeans.py:1416: FutureWarning: The default value of `n_init` will change from 10 to 'auto' in 1.4. Set the value of `n_init` explicitly to suppress the warning\n",
      "  super()._check_params_vs_input(X, default_n_init=10)\n",
      "C:\\Users\\Mathew\\AppData\\Local\\Programs\\Python\\Python311\\Lib\\site-packages\\sklearn\\cluster\\_kmeans.py:1416: FutureWarning: The default value of `n_init` will change from 10 to 'auto' in 1.4. Set the value of `n_init` explicitly to suppress the warning\n",
      "  super()._check_params_vs_input(X, default_n_init=10)\n",
      "C:\\Users\\Mathew\\AppData\\Local\\Programs\\Python\\Python311\\Lib\\site-packages\\sklearn\\cluster\\_kmeans.py:1416: FutureWarning: The default value of `n_init` will change from 10 to 'auto' in 1.4. Set the value of `n_init` explicitly to suppress the warning\n",
      "  super()._check_params_vs_input(X, default_n_init=10)\n",
      "C:\\Users\\Mathew\\AppData\\Local\\Programs\\Python\\Python311\\Lib\\site-packages\\sklearn\\cluster\\_kmeans.py:1416: FutureWarning: The default value of `n_init` will change from 10 to 'auto' in 1.4. Set the value of `n_init` explicitly to suppress the warning\n",
      "  super()._check_params_vs_input(X, default_n_init=10)\n",
      "C:\\Users\\Mathew\\AppData\\Local\\Programs\\Python\\Python311\\Lib\\site-packages\\sklearn\\cluster\\_kmeans.py:1416: FutureWarning: The default value of `n_init` will change from 10 to 'auto' in 1.4. Set the value of `n_init` explicitly to suppress the warning\n",
      "  super()._check_params_vs_input(X, default_n_init=10)\n",
      "C:\\Users\\Mathew\\AppData\\Local\\Programs\\Python\\Python311\\Lib\\site-packages\\sklearn\\cluster\\_kmeans.py:1416: FutureWarning: The default value of `n_init` will change from 10 to 'auto' in 1.4. Set the value of `n_init` explicitly to suppress the warning\n",
      "  super()._check_params_vs_input(X, default_n_init=10)\n",
      "C:\\Users\\Mathew\\AppData\\Local\\Programs\\Python\\Python311\\Lib\\site-packages\\sklearn\\cluster\\_kmeans.py:1416: FutureWarning: The default value of `n_init` will change from 10 to 'auto' in 1.4. Set the value of `n_init` explicitly to suppress the warning\n",
      "  super()._check_params_vs_input(X, default_n_init=10)\n",
      "C:\\Users\\Mathew\\AppData\\Local\\Programs\\Python\\Python311\\Lib\\site-packages\\sklearn\\cluster\\_kmeans.py:1416: FutureWarning: The default value of `n_init` will change from 10 to 'auto' in 1.4. Set the value of `n_init` explicitly to suppress the warning\n",
      "  super()._check_params_vs_input(X, default_n_init=10)\n"
     ]
    },
    {
     "data": {
      "image/png": "[encoded data removed]",
      "text/plain": [
       "<Figure size 2000x800 with 1 Axes>"
      ]
     },
     "metadata": {},
     "output_type": "display_data"
    }
   ],
   "source": [
    "from sklearn.cluster import KMeans\n",
    "\n",
    "wcss = []\n",
    "#WCSS (Within-Cluster Sum of Square). WCSS is the sum of the squared distance between each point and the centroid in a cluster\n",
    "for k in range(1,15):\n",
    "    kmeans = KMeans(n_clusters=k)\n",
    "    kmeans.fit(X)\n",
    "    wcss.append(kmeans.inertia_)\n",
    "\n",
    "\n",
    "plt.figure(figsize=(20,8))\n",
    "plt.title(\"WCSS / K Chart\", fontsize=18)\n",
    "plt.plot(range(1,15),wcss,\"-o\")\n",
    "plt.grid(True)\n",
    "plt.xlabel(\"Amount of Clusters\",fontsize=14)\n",
    "plt.ylabel(\"Inertia\",fontsize=14)\n",
    "\n",
    "plt.tight_layout()\n",
    "plt.show()\n"
   ]
  },
  {
   "cell_type": "code",
   "execution_count": 116,
   "id": "35bb7e48",
   "metadata": {},
   "outputs": [
    {
     "name": "stdout",
     "output_type": "stream",
     "text": [
      "[1 1 1 1 1 1 1 1 1 1 1 1 1 1 1 1 1 1 1 1 1 1 1 1 1 1 1 1 1 1 1 1 1 1 1 1 1\n",
      " 1 1 1 1 1 1 1 1 1 1 1 1 1 0 0 0 0 0 0 0 1 0 0 0 0 0 0 0 0 0 0 0 0 0 0 0 0\n",
      " 0 0 0 0 0 0 0 0 0 0 0 0 0 0 0 0 0 0 0 1 0 0 0 0 1 0 0 0 0 0 0 0 0 0 0 0 0\n",
      " 0 0 0 0 0 0 0 0 0 0 0 0 0 0 0 0 0 0 0 0 0 0 0 0 0 0 0 0 0 0 0 0 0 0 0 0 0\n",
      " 0 0]\n"
     ]
    },
    {
     "name": "stderr",
     "output_type": "stream",
     "text": [
      "C:\\Users\\Mathew\\AppData\\Local\\Programs\\Python\\Python311\\Lib\\site-packages\\sklearn\\cluster\\_kmeans.py:1416: FutureWarning: The default value of `n_init` will change from 10 to 'auto' in 1.4. Set the value of `n_init` explicitly to suppress the warning\n",
      "  super()._check_params_vs_input(X, default_n_init=10)\n"
     ]
    },
    {
     "data": {
      "text/plain": [
       "0.6810461692117462"
      ]
     },
     "execution_count": 116,
     "metadata": {},
     "output_type": "execute_result"
    }
   ],
   "source": [
    "kmeans = KMeans(n_clusters=2)\n",
    "kmeans_pred = kmeans.fit_predict(X)\n",
    "print(kmeans_pred)\n",
    "\n",
    "silhouette_score(X, kmeans_pred)"
   ]
  },
  {
   "cell_type": "code",
   "execution_count": 117,
   "id": "b486bf53",
   "metadata": {},
   "outputs": [
    {
     "data": {
      "image/png": "[encoded data removed]",
      "text/plain": [
       "<Figure size 640x480 with 1 Axes>"
      ]
     },
     "metadata": {},
     "output_type": "display_data"
    }
   ],
   "source": [
    "plt.scatter(X[kmeans_pred == 0, 0], X[kmeans_pred == 0, 1], s = 60, c = 'red', label = 'Cluster1')\n",
    "plt.scatter(X[kmeans_pred == 1, 0], X[kmeans_pred == 1, 1], s = 60, c = 'blue', label = 'Cluster2')\n",
    "\n",
    "\n",
    "plt.scatter(kmeans.cluster_centers_[:, 0], kmeans.cluster_centers_[:, 1], s = 100, c = 'black', label = 'Centroids')\n",
    "\n",
    "plt.legend() \n",
    "\n",
    "plt.show()"
   ]
  },
  {
   "cell_type": "code",
   "execution_count": 118,
   "id": "872a6768",
   "metadata": {
    "scrolled": true
   },
   "outputs": [
    {
     "name": "stdout",
     "output_type": "stream",
     "text": [
      "[1 1 1 1 1 1 1 1 1 1 1 1 1 1 1 1 1 1 1 1 1 1 1 1 1 1 1 1 1 1 1 1 1 1 1 1 1\n",
      " 1 1 1 1 1 1 1 1 1 1 1 1 1 2 2 0 2 2 2 2 2 2 2 2 2 2 2 2 2 2 2 2 2 2 2 2 2\n",
      " 2 2 2 0 2 2 2 2 2 2 2 2 2 2 2 2 2 2 2 2 2 2 2 2 2 2 0 2 0 0 0 0 2 0 0 0 0\n",
      " 0 0 2 2 0 0 0 0 2 0 2 0 2 0 0 2 2 0 0 0 0 0 2 0 0 0 0 2 0 0 0 2 0 0 0 2 0\n",
      " 0 2]\n"
     ]
    },
    {
     "name": "stderr",
     "output_type": "stream",
     "text": [
      "C:\\Users\\Mathew\\AppData\\Local\\Programs\\Python\\Python311\\Lib\\site-packages\\sklearn\\cluster\\_kmeans.py:1416: FutureWarning: The default value of `n_init` will change from 10 to 'auto' in 1.4. Set the value of `n_init` explicitly to suppress the warning\n",
      "  super()._check_params_vs_input(X, default_n_init=10)\n"
     ]
    },
    {
     "data": {
      "text/plain": [
       "0.5528190123564095"
      ]
     },
     "execution_count": 118,
     "metadata": {},
     "output_type": "execute_result"
    }
   ],
   "source": [
    "kmeans = KMeans(n_clusters=3)\n",
    "kmeans_pred = kmeans.fit_predict(X)\n",
    "print(kmeans_pred)\n",
    "\n",
    "silhouette_score(X, kmeans_pred)\n",
    "\n",
    "#The best value is 1 and the worst value is -1. Values near 0 indicate overlapping clusters.\n",
    "#Negative values generally indicate that a sample has been assigned to the wrong cluster, as a different cluster is more similar\n"
   ]
  },
  {
   "cell_type": "code",
   "execution_count": 119,
   "id": "e7e58eb0",
   "metadata": {},
   "outputs": [
    {
     "data": {
      "image/png": "[encoded data removed]",
      "text/plain": [
       "<Figure size 640x480 with 1 Axes>"
      ]
     },
     "metadata": {},
     "output_type": "display_data"
    }
   ],
   "source": [
    "plt.scatter(X[kmeans_pred == 0, 0], X[kmeans_pred == 0, 1], s = 60, c = 'red', label = 'Cluster1')\n",
    "plt.scatter(X[kmeans_pred == 1, 0], X[kmeans_pred == 1, 1], s = 60, c = 'blue', label = 'Cluster2')\n",
    "plt.scatter(X[kmeans_pred == 2, 0], X[kmeans_pred == 2, 1], s = 60, c = 'green', label = 'Cluster3')\n",
    "\n",
    "plt.scatter(kmeans.cluster_centers_[:, 0], kmeans.cluster_centers_[:, 1], s = 100, c = 'black', label = 'Centroids')\n",
    "\n",
    "plt.legend() \n",
    "\n",
    "plt.show()"
   ]
  },
  {
   "cell_type": "markdown",
   "id": "c065fd51",
   "metadata": {},
   "source": [
    "# Hierarchical Clustering"
   ]
  },
  {
   "cell_type": "code",
   "execution_count": 120,
   "id": "fc8aca06",
   "metadata": {},
   "outputs": [
    {
     "name": "stderr",
     "output_type": "stream",
     "text": [
      "C:\\Users\\Mathew\\AppData\\Local\\Programs\\Python\\Python311\\Lib\\site-packages\\sklearn\\cluster\\_agglomerative.py:1006: FutureWarning: Attribute `affinity` was deprecated in version 1.2 and will be removed in 1.4. Use `metric` instead\n",
      "  warnings.warn(\n"
     ]
    },
    {
     "data": {
      "text/plain": [
       "0.6867350732769777"
      ]
     },
     "execution_count": 120,
     "metadata": {},
     "output_type": "execute_result"
    }
   ],
   "source": [
    "from sklearn.cluster import AgglomerativeClustering\n",
    "\n",
    "hc = AgglomerativeClustering(n_clusters = 2, affinity = 'euclidean', linkage = 'ward')\n",
    "hc_pred = hc.fit_predict(X)\n",
    "hc_pred\n",
    "\n",
    "silhouette_score(X, hc_pred)"
   ]
  },
  {
   "cell_type": "code",
   "execution_count": 121,
   "id": "00c8c272",
   "metadata": {},
   "outputs": [
    {
     "data": {
      "image/png": "[encoded data removed]",
      "text/plain": [
       "<Figure size 640x480 with 1 Axes>"
      ]
     },
     "metadata": {},
     "output_type": "display_data"
    }
   ],
   "source": [
    "plt.scatter(X[hc_pred == 0, 0], X[hc_pred == 0, 1], s = 60, c = 'red', label = 'Cluster1')\n",
    "plt.scatter(X[hc_pred == 1, 0], X[hc_pred == 1, 1], s = 60, c = 'blue', label = 'Cluster2')\n",
    "\n",
    "\n",
    "plt.legend() \n",
    "\n",
    "plt.show()"
   ]
  },
  {
   "cell_type": "markdown",
   "id": "46513537",
   "metadata": {},
   "source": [
    "# TSNE"
   ]
  },
  {
   "cell_type": "code",
   "execution_count": 135,
   "id": "1a967727",
   "metadata": {},
   "outputs": [
    {
     "name": "stdout",
     "output_type": "stream",
     "text": [
      "     sepal length (cm)  sepal width (cm)  petal length (cm)  petal width (cm)  \\\n",
      "0                 0.22              0.62               0.07              0.04   \n",
      "1                 0.17              0.42               0.07              0.04   \n",
      "2                 0.11              0.50               0.05              0.04   \n",
      "3                 0.08              0.46               0.08              0.04   \n",
      "4                 0.19              0.67               0.07              0.04   \n",
      "..                 ...               ...                ...               ...   \n",
      "145               0.67              0.42               0.71              0.92   \n",
      "146               0.56              0.21               0.68              0.75   \n",
      "147               0.61              0.42               0.71              0.79   \n",
      "148               0.53              0.58               0.75              0.92   \n",
      "149               0.44              0.42               0.69              0.71   \n",
      "\n",
      "     Category  \n",
      "0         0.0  \n",
      "1         0.0  \n",
      "2         0.0  \n",
      "3         0.0  \n",
      "4         0.0  \n",
      "..        ...  \n",
      "145       1.0  \n",
      "146       1.0  \n",
      "147       1.0  \n",
      "148       1.0  \n",
      "149       1.0  \n",
      "\n",
      "[149 rows x 5 columns]\n"
     ]
    },
    {
     "data": {
      "text/html": [
       "<div>\n",
       "<style scoped>\n",
       "    .dataframe tbody tr th:only-of-type {\n",
       "        vertical-align: middle;\n",
       "    }\n",
       "\n",
       "    .dataframe tbody tr th {\n",
       "        vertical-align: top;\n",
       "    }\n",
       "\n",
       "    .dataframe thead th {\n",
       "        text-align: right;\n",
       "    }\n",
       "</style>\n",
       "<table border=\"1\" class=\"dataframe\">\n",
       "  <thead>\n",
       "    <tr style=\"text-align: right;\">\n",
       "      <th></th>\n",
       "      <th>sepal length (cm)</th>\n",
       "      <th>sepal width (cm)</th>\n",
       "      <th>petal length (cm)</th>\n",
       "      <th>petal width (cm)</th>\n",
       "      <th>Category</th>\n",
       "    </tr>\n",
       "  </thead>\n",
       "  <tbody>\n",
       "    <tr>\n",
       "      <th>0</th>\n",
       "      <td>0.22</td>\n",
       "      <td>0.62</td>\n",
       "      <td>0.07</td>\n",
       "      <td>0.04</td>\n",
       "      <td>0.0</td>\n",
       "    </tr>\n",
       "    <tr>\n",
       "      <th>1</th>\n",
       "      <td>0.17</td>\n",
       "      <td>0.42</td>\n",
       "      <td>0.07</td>\n",
       "      <td>0.04</td>\n",
       "      <td>0.0</td>\n",
       "    </tr>\n",
       "    <tr>\n",
       "      <th>2</th>\n",
       "      <td>0.11</td>\n",
       "      <td>0.50</td>\n",
       "      <td>0.05</td>\n",
       "      <td>0.04</td>\n",
       "      <td>0.0</td>\n",
       "    </tr>\n",
       "    <tr>\n",
       "      <th>3</th>\n",
       "      <td>0.08</td>\n",
       "      <td>0.46</td>\n",
       "      <td>0.08</td>\n",
       "      <td>0.04</td>\n",
       "      <td>0.0</td>\n",
       "    </tr>\n",
       "    <tr>\n",
       "      <th>4</th>\n",
       "      <td>0.19</td>\n",
       "      <td>0.67</td>\n",
       "      <td>0.07</td>\n",
       "      <td>0.04</td>\n",
       "      <td>0.0</td>\n",
       "    </tr>\n",
       "    <tr>\n",
       "      <th>...</th>\n",
       "      <td>...</td>\n",
       "      <td>...</td>\n",
       "      <td>...</td>\n",
       "      <td>...</td>\n",
       "      <td>...</td>\n",
       "    </tr>\n",
       "    <tr>\n",
       "      <th>145</th>\n",
       "      <td>0.67</td>\n",
       "      <td>0.42</td>\n",
       "      <td>0.71</td>\n",
       "      <td>0.92</td>\n",
       "      <td>1.0</td>\n",
       "    </tr>\n",
       "    <tr>\n",
       "      <th>146</th>\n",
       "      <td>0.56</td>\n",
       "      <td>0.21</td>\n",
       "      <td>0.68</td>\n",
       "      <td>0.75</td>\n",
       "      <td>1.0</td>\n",
       "    </tr>\n",
       "    <tr>\n",
       "      <th>147</th>\n",
       "      <td>0.61</td>\n",
       "      <td>0.42</td>\n",
       "      <td>0.71</td>\n",
       "      <td>0.79</td>\n",
       "      <td>1.0</td>\n",
       "    </tr>\n",
       "    <tr>\n",
       "      <th>148</th>\n",
       "      <td>0.53</td>\n",
       "      <td>0.58</td>\n",
       "      <td>0.75</td>\n",
       "      <td>0.92</td>\n",
       "      <td>1.0</td>\n",
       "    </tr>\n",
       "    <tr>\n",
       "      <th>149</th>\n",
       "      <td>0.44</td>\n",
       "      <td>0.42</td>\n",
       "      <td>0.69</td>\n",
       "      <td>0.71</td>\n",
       "      <td>1.0</td>\n",
       "    </tr>\n",
       "  </tbody>\n",
       "</table>\n",
       "<p>149 rows × 5 columns</p>\n",
       "</div>"
      ],
      "text/plain": [
       "     sepal length (cm)  sepal width (cm)  petal length (cm)  petal width (cm)  \\\n",
       "0                 0.22              0.62               0.07              0.04   \n",
       "1                 0.17              0.42               0.07              0.04   \n",
       "2                 0.11              0.50               0.05              0.04   \n",
       "3                 0.08              0.46               0.08              0.04   \n",
       "4                 0.19              0.67               0.07              0.04   \n",
       "..                 ...               ...                ...               ...   \n",
       "145               0.67              0.42               0.71              0.92   \n",
       "146               0.56              0.21               0.68              0.75   \n",
       "147               0.61              0.42               0.71              0.79   \n",
       "148               0.53              0.58               0.75              0.92   \n",
       "149               0.44              0.42               0.69              0.71   \n",
       "\n",
       "     Category  \n",
       "0         0.0  \n",
       "1         0.0  \n",
       "2         0.0  \n",
       "3         0.0  \n",
       "4         0.0  \n",
       "..        ...  \n",
       "145       1.0  \n",
       "146       1.0  \n",
       "147       1.0  \n",
       "148       1.0  \n",
       "149       1.0  \n",
       "\n",
       "[149 rows x 5 columns]"
      ]
     },
     "execution_count": 135,
     "metadata": {},
     "output_type": "execute_result"
    }
   ],
   "source": [
    "print(df)\n",
    "\n",
    "col=df.columns\n",
    "\n",
    "from sklearn.preprocessing import MinMaxScaler\n",
    "\n",
    "\n",
    "# Create a scaler object\n",
    "scaler = MinMaxScaler()\n",
    "\n",
    "# Fit the scaler on the data\n",
    "scaler.fit(df)\n",
    "\n",
    "# Transform the data\n",
    "scaled_data = scaler.transform(df)\n",
    "\n",
    "# Print the scaled data\n",
    "\n",
    "df[col]=scaled_data.round(2)\n",
    "df"
   ]
  },
  {
   "cell_type": "code",
   "execution_count": 141,
   "id": "f3d5eddb",
   "metadata": {},
   "outputs": [
    {
     "data": {
      "text/plain": [
       "(149, 2)"
      ]
     },
     "execution_count": 141,
     "metadata": {},
     "output_type": "execute_result"
    }
   ],
   "source": [
    "#Apply the TSNE algorithm with random state = 1\n",
    "for i in range(10,50):\n",
    "    tsne = TSNE(n_components = 2, random_state=1,perplexity=i)  \n",
    "    data_tsne = tsne.fit_transform(scaled_data)\n",
    "\n",
    "#Fit and transform tsne function on the scaled data\n",
    "data_tsne.shape"
   ]
  },
  {
   "cell_type": "markdown",
   "id": "f81e4f9b",
   "metadata": {},
   "source": [
    "Before applying tsne the shape of the dataset is (149,5). After applying tsne the shape of the dataset is (149,2).We reduced the dimensionality of the dataset using tsne. So we can easily visualize our high dimensional dataset in 2d or 1d."
   ]
  },
  {
   "cell_type": "markdown",
   "id": "4c6f2f72",
   "metadata": {},
   "source": [
    "# 2 dimensional"
   ]
  },
  {
   "cell_type": "code",
   "execution_count": 139,
   "id": "16f2f107",
   "metadata": {},
   "outputs": [
    {
     "data": {
      "text/plain": [
       "<Axes: >"
      ]
     },
     "execution_count": 139,
     "metadata": {},
     "output_type": "execute_result"
    },
    {
     "data": {
      "image/png": "[encoded data removed]",
      "text/plain": [
       "<Figure size 640x480 with 1 Axes>"
      ]
     },
     "metadata": {},
     "output_type": "display_data"
    }
   ],
   "source": [
    "sns.scatterplot(x=data_tsne[:,0],y=data_tsne[:,1],hue=\"Category\", palette='husl',data=df)\n",
    "#plt.scatter(data_tsne[:,0],data_tsne[:,1], s = 60, c = 'red')\n",
    "#plt.show()"
   ]
  },
  {
   "cell_type": "code",
   "execution_count": 142,
   "id": "d60fc584",
   "metadata": {},
   "outputs": [
    {
     "data": {
      "text/plain": [
       "(149, 1)"
      ]
     },
     "execution_count": 142,
     "metadata": {},
     "output_type": "execute_result"
    }
   ],
   "source": [
    "#Apply the TSNE algorithm with random state = 1\n",
    "for i in range(10,50):\n",
    "    tsne = TSNE(n_components = 1, random_state=1,perplexity=i)  \n",
    "    data_tsne = tsne.fit_transform(scaled_data)\n",
    "\n",
    "#Fit and transform tsne function on the scaled data\n",
    "data_tsne.shape"
   ]
  },
  {
   "cell_type": "markdown",
   "id": "0f48463b",
   "metadata": {},
   "source": [
    "# 1 dimensional"
   ]
  },
  {
   "cell_type": "code",
   "execution_count": 143,
   "id": "dafe81d1",
   "metadata": {},
   "outputs": [
    {
     "data": {
      "text/plain": [
       "<Axes: >"
      ]
     },
     "execution_count": 143,
     "metadata": {},
     "output_type": "execute_result"
    },
    {
     "data": {
      "image/png": "[encoded data removed]",
      "text/plain": [
       "<Figure size 640x480 with 1 Axes>"
      ]
     },
     "metadata": {},
     "output_type": "display_data"
    }
   ],
   "source": [
    "sns.lineplot(x=df.index, y=data_tsne[:,0], data=df)"
   ]
  },
  {
   "cell_type": "code",
   "execution_count": null,
   "id": "bd525334",
   "metadata": {},
   "outputs": [],
   "source": []
  }
 ],
 "metadata": {
  "kernelspec": {
   "display_name": "Python 3 (ipykernel)",
   "language": "python",
   "name": "python3"
  },
  "language_info": {
   "codemirror_mode": {
    "name": "ipython",
    "version": 3
   },
   "file_extension": ".py",
   "mimetype": "text/x-python",
   "name": "python",
   "nbconvert_exporter": "python",
   "pygments_lexer": "ipython3",
   "version": "3.11.2"
  }
 },
 "nbformat": 4,
 "nbformat_minor": 5
}
